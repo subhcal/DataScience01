{
 "cells": [
  {
   "cell_type": "code",
   "execution_count": 4,
   "id": "110f077c",
   "metadata": {},
   "outputs": [
    {
     "name": "stdout",
     "output_type": "stream",
     "text": [
      "Bagging Classifier Accuracy: 1.00\n"
     ]
    }
   ],
   "source": [
    "from sklearn.datasets import load_iris\n",
    "from sklearn.ensemble import BaggingClassifier\n",
    "from sklearn.tree import DecisionTreeClassifier\n",
    "from sklearn.model_selection import train_test_split\n",
    "from sklearn.metrics import accuracy_score\n",
    "\n",
    "# Load dataset\n",
    "iris = load_iris()\n",
    "X = iris.data\n",
    "y = iris.target\n",
    "\n",
    "# Split dataset\n",
    "X_train, X_test, y_train, y_test = train_test_split(X, y, test_size=0.3, random_state=42)\n",
    "\n",
    "# Use 'estimator' instead of 'base_estimator' in newer versions\n",
    "model = BaggingClassifier(estimator=DecisionTreeClassifier(), n_estimators=10, random_state=42)\n",
    "model.fit(X_train, y_train)\n",
    "\n",
    "# Predict and evaluate\n",
    "y_pred = model.predict(X_test)\n",
    "accuracy = accuracy_score(y_test, y_pred)\n",
    "print(f\"Bagging Classifier Accuracy: {accuracy:.2f}\")\n"
   ]
  },
  {
   "cell_type": "code",
   "execution_count": 5,
   "id": "28dd0ca2",
   "metadata": {},
   "outputs": [
    {
     "name": "stdout",
     "output_type": "stream",
     "text": [
      "Bagging Regressor Mean Squared Error: 0.00\n"
     ]
    }
   ],
   "source": [
    "from sklearn.ensemble import BaggingRegressor\n",
    "from sklearn.tree import DecisionTreeRegressor\n",
    "from sklearn.metrics import mean_squared_error\n",
    "from sklearn.model_selection import train_test_split\n",
    "from sklearn.datasets import load_iris\n",
    "import numpy as np\n",
    "\n",
    "# Load dataset\n",
    "iris = load_iris()\n",
    "X = iris.data\n",
    "y = iris.target\n",
    "\n",
    "# Split dataset\n",
    "X_train, X_test, y_train, y_test = train_test_split(X, y, test_size=0.3, random_state=42)\n",
    "\n",
    "# Train Bagging Regressor\n",
    "regressor = BaggingRegressor(estimator=DecisionTreeRegressor(), n_estimators=10, random_state=42)\n",
    "regressor.fit(X_train, y_train)\n",
    "\n",
    "# Predict and evaluate\n",
    "y_pred = regressor.predict(X_test)\n",
    "mse = mean_squared_error(y_test, y_pred)\n",
    "print(f\"Bagging Regressor Mean Squared Error: {mse:.2f}\")"
   ]
  },
  {
   "cell_type": "code",
   "execution_count": 6,
   "id": "af54820f",
   "metadata": {},
   "outputs": [
    {
     "name": "stdout",
     "output_type": "stream",
     "text": [
      "mean radius: 0.0323\n",
      "mean texture: 0.0111\n",
      "mean perimeter: 0.0601\n",
      "mean area: 0.0538\n",
      "mean smoothness: 0.0062\n",
      "mean compactness: 0.0092\n",
      "mean concavity: 0.0806\n",
      "mean concave points: 0.1419\n",
      "mean symmetry: 0.0033\n",
      "mean fractal dimension: 0.0031\n",
      "radius error: 0.0164\n",
      "texture error: 0.0032\n",
      "perimeter error: 0.0118\n",
      "area error: 0.0295\n",
      "smoothness error: 0.0059\n",
      "compactness error: 0.0046\n",
      "concavity error: 0.0058\n",
      "concave points error: 0.0034\n",
      "symmetry error: 0.0040\n",
      "fractal dimension error: 0.0071\n",
      "worst radius: 0.0780\n",
      "worst texture: 0.0188\n",
      "worst perimeter: 0.0743\n",
      "worst area: 0.1182\n",
      "worst smoothness: 0.0118\n",
      "worst compactness: 0.0175\n",
      "worst concavity: 0.0411\n",
      "worst concave points: 0.1271\n",
      "worst symmetry: 0.0129\n",
      "worst fractal dimension: 0.0069\n"
     ]
    }
   ],
   "source": [
    "from sklearn.datasets import load_breast_cancer\n",
    "from sklearn.ensemble import RandomForestClassifier\n",
    "from sklearn.model_selection import train_test_split\n",
    "\n",
    "# Load the Breast Cancer dataset\n",
    "breast_cancer = load_breast_cancer()\n",
    "X_bc = breast_cancer.data\n",
    "y_bc = breast_cancer.target\n",
    "\n",
    "# Split the dataset\n",
    "X_train_bc, X_test_bc, y_train_bc, y_test_bc = train_test_split(X_bc, y_bc, test_size=0.3, random_state=42)\n",
    "\n",
    "# Train a Random Forest Classifier\n",
    "rf_classifier = RandomForestClassifier(random_state=42)\n",
    "rf_classifier.fit(X_train_bc, y_train_bc)\n",
    "\n",
    "# Print feature importance scores\n",
    "feature_importances = rf_classifier.feature_importances_\n",
    "for name, importance in zip(breast_cancer.feature_names, feature_importances):\n",
    "    print(f\"{name}: {importance:.4f}\")"
   ]
  },
  {
   "cell_type": "code",
   "execution_count": 7,
   "id": "326692fd",
   "metadata": {},
   "outputs": [
    {
     "name": "stdout",
     "output_type": "stream",
     "text": [
      "Decision Tree Regressor Mean Squared Error: 0.00\n",
      "Random Forest Regressor Mean Squared Error: 0.00\n"
     ]
    }
   ],
   "source": [
    "from sklearn.ensemble import RandomForestRegressor\n",
    "from sklearn.tree import DecisionTreeRegressor\n",
    "from sklearn.metrics import mean_squared_error\n",
    "\n",
    "# Train a Decision Tree Regressor\n",
    "dt_regressor = DecisionTreeRegressor(random_state=42)\n",
    "dt_regressor.fit(X_train, y_train)\n",
    "y_pred_dt = dt_regressor.predict(X_test)\n",
    "mse_dt = mean_squared_error(y_test, y_pred_dt)\n",
    "print(f\"Decision Tree Regressor Mean Squared Error: {mse_dt:.2f}\")\n",
    "\n",
    "# Train a Random Forest Regressor\n",
    "rf_regressor = RandomForestRegressor(random_state=42, n_estimators=10)\n",
    "rf_regressor.fit(X_train, y_train)\n",
    "y_pred_rf = rf_regressor.predict(X_test)\n",
    "mse_rf = mean_squared_error(y_test, y_pred_rf)\n",
    "print(f\"Random Forest Regressor Mean Squared Error: {mse_rf:.2f}\")"
   ]
  },
  {
   "cell_type": "code",
   "execution_count": 8,
   "id": "8c21af97",
   "metadata": {},
   "outputs": [
    {
     "name": "stdout",
     "output_type": "stream",
     "text": [
      "Out-of-Bag (OOB) Score: 0.94\n"
     ]
    }
   ],
   "source": [
    "# Train a Random Forest Classifier with OOB score enabled\n",
    "rf_classifier_oob = RandomForestClassifier(random_state=42, oob_score=True)\n",
    "rf_classifier_oob.fit(X_train, y_train)\n",
    "\n",
    "# Compute and print the OOB score\n",
    "oob_score = rf_classifier_oob.oob_score_\n",
    "print(f\"Out-of-Bag (OOB) Score: {oob_score:.2f}\")"
   ]
  },
  {
   "cell_type": "code",
   "execution_count": 9,
   "id": "885ddb56",
   "metadata": {},
   "outputs": [
    {
     "name": "stdout",
     "output_type": "stream",
     "text": [
      "Bagging Classifier with SVM Accuracy: 1.00\n"
     ]
    }
   ],
   "source": [
    "from sklearn.svm import SVC\n",
    "\n",
    "# Train Bagging Classifier with SVM as base estimator\n",
    "svm_model = BaggingClassifier(estimator=SVC(), n_estimators=10, random_state=42)\n",
    "svm_model.fit(X_train, y_train)\n",
    "\n",
    "# Predict and evaluate\n",
    "y_pred_svm = svm_model.predict(X_test)\n",
    "accuracy_svm = accuracy_score(y_test, y_pred_svm)\n",
    "print(f\"Bagging Classifier with SVM Accuracy: {accuracy_svm:.2f}\")"
   ]
  },
  {
   "cell_type": "code",
   "execution_count": 10,
   "id": "ddcbca30",
   "metadata": {},
   "outputs": [
    {
     "data": {
      "image/png": "[encoded data removed]",
      "text/plain": [
       "<Figure size 1000x600 with 1 Axes>"
      ]
     },
     "metadata": {},
     "output_type": "display_data"
    }
   ],
   "source": [
    "from sklearn.ensemble import RandomForestClassifier\n",
    "from sklearn.model_selection import train_test_split\n",
    "from sklearn.metrics import accuracy_score\n",
    "\n",
    "import matplotlib.pyplot as plt\n",
    "\n",
    "# Load the dataset (already loaded as 'iris' in the notebook)\n",
    "X = iris.data\n",
    "y = iris.target\n",
    "\n",
    "# Split the dataset\n",
    "X_train, X_test, y_train, y_test = train_test_split(X, y, test_size=0.3, random_state=42)\n",
    "\n",
    "# List of different numbers of trees to test\n",
    "n_estimators_list = [1, 5, 10, 20, 50, 100, 200]\n",
    "\n",
    "# Store accuracies for each number of trees\n",
    "accuracies = []\n",
    "\n",
    "for n_estimators in n_estimators_list:\n",
    "    # Train a Random Forest Classifier\n",
    "    rf_classifier = RandomForestClassifier(n_estimators=n_estimators, random_state=42)\n",
    "    rf_classifier.fit(X_train, y_train)\n",
    "    \n",
    "    # Predict and calculate accuracy\n",
    "    y_pred = rf_classifier.predict(X_test)\n",
    "    accuracy = accuracy_score(y_test, y_pred)\n",
    "    accuracies.append(accuracy)\n",
    "\n",
    "# Plot the results\n",
    "plt.figure(figsize=(10, 6))\n",
    "plt.plot(n_estimators_list, accuracies, marker='o', linestyle='-', color='b')\n",
    "plt.title('Random Forest Classifier Accuracy vs Number of Trees')\n",
    "plt.xlabel('Number of Trees')\n",
    "plt.ylabel('Accuracy')\n",
    "plt.grid(True)\n",
    "plt.show()"
   ]
  },
  {
   "cell_type": "code",
   "execution_count": 11,
   "id": "4a7b0496",
   "metadata": {},
   "outputs": [
    {
     "name": "stdout",
     "output_type": "stream",
     "text": [
      "Bagging Classifier with Logistic Regression AUC Score: 1.00\n"
     ]
    }
   ],
   "source": [
    "from sklearn.linear_model import LogisticRegression\n",
    "from sklearn.metrics import roc_auc_score\n",
    "from sklearn.preprocessing import label_binarize\n",
    "\n",
    "# Train Bagging Classifier with Logistic Regression as base estimator\n",
    "logistic_model = BaggingClassifier(estimator=LogisticRegression(max_iter=1000), n_estimators=10, random_state=42)\n",
    "logistic_model.fit(X_train, y_train)\n",
    "\n",
    "# Predict probabilities for AUC calculation\n",
    "y_pred_proba = logistic_model.predict_proba(X_test)\n",
    "\n",
    "# Binarize the labels for multi-class AUC\n",
    "y_test_binarized = label_binarize(y_test, classes=[0, 1, 2])\n",
    "\n",
    "# Compute AUC score\n",
    "auc_score = roc_auc_score(y_test_binarized, y_pred_proba, multi_class='ovr')\n",
    "print(f\"Bagging Classifier with Logistic Regression AUC Score: {auc_score:.2f}\")"
   ]
  },
  {
   "cell_type": "code",
   "execution_count": 12,
   "id": "b4ff0a53",
   "metadata": {},
   "outputs": [
    {
     "name": "stdout",
     "output_type": "stream",
     "text": [
      "Feature 1: 0.0073\n",
      "Feature 2: 0.0102\n",
      "Feature 3: 0.4883\n",
      "Feature 4: 0.4942\n"
     ]
    }
   ],
   "source": [
    "# Train a Random Forest Regressor\n",
    "rf_regressor = RandomForestRegressor(n_estimators=100, random_state=42)\n",
    "rf_regressor.fit(X_train, y_train)\n",
    "\n",
    "# Analyze feature importance scores\n",
    "feature_importances = rf_regressor.feature_importances_\n",
    "for i, importance in enumerate(feature_importances):\n",
    "    print(f\"Feature {i + 1}: {importance:.4f}\")"
   ]
  },
  {
   "cell_type": "code",
   "execution_count": 13,
   "id": "c4e42107",
   "metadata": {},
   "outputs": [
    {
     "name": "stdout",
     "output_type": "stream",
     "text": [
      "Bagging Classifier Accuracy: 1.00\n",
      "Random Forest Classifier Accuracy: 1.00\n"
     ]
    }
   ],
   "source": [
    "from sklearn.ensemble import BaggingClassifier, RandomForestClassifier\n",
    "from sklearn.tree import DecisionTreeClassifier\n",
    "from sklearn.metrics import accuracy_score\n",
    "\n",
    "# Train a Bagging Classifier\n",
    "bagging_model = BaggingClassifier(estimator=DecisionTreeClassifier(), n_estimators=50, random_state=42)\n",
    "bagging_model.fit(X_train, y_train)\n",
    "y_pred_bagging = bagging_model.predict(X_test)\n",
    "accuracy_bagging = accuracy_score(y_test, y_pred_bagging)\n",
    "print(f\"Bagging Classifier Accuracy: {accuracy_bagging:.2f}\")\n",
    "\n",
    "# Train a Random Forest Classifier\n",
    "random_forest_model = RandomForestClassifier(n_estimators=50, random_state=42)\n",
    "random_forest_model.fit(X_train, y_train)\n",
    "y_pred_rf = random_forest_model.predict(X_test)\n",
    "accuracy_rf = accuracy_score(y_test, y_pred_rf)\n",
    "print(f\"Random Forest Classifier Accuracy: {accuracy_rf:.2f}\")"
   ]
  },
  {
   "cell_type": "code",
   "execution_count": 14,
   "id": "01dc4a2b",
   "metadata": {},
   "outputs": [
    {
     "name": "stdout",
     "output_type": "stream",
     "text": [
      "Fitting 5 folds for each of 144 candidates, totalling 720 fits\n",
      "Best Parameters: {'max_depth': None, 'min_samples_leaf': 1, 'min_samples_split': 2, 'n_estimators': 100}\n",
      "Test Set Accuracy: 1.00\n"
     ]
    }
   ],
   "source": [
    "from sklearn.ensemble import RandomForestClassifier\n",
    "from sklearn.model_selection import GridSearchCV\n",
    "from sklearn.metrics import accuracy_score\n",
    "\n",
    "# Define the parameter grid\n",
    "param_grid = {\n",
    "    'n_estimators': [10, 50, 100, 200],\n",
    "    'max_depth': [None, 10, 20, 30],\n",
    "    'min_samples_split': [2, 5, 10],\n",
    "    'min_samples_leaf': [1, 2, 4]\n",
    "}\n",
    "\n",
    "# Initialize the Random Forest Classifier\n",
    "rf = RandomForestClassifier(random_state=42)\n",
    "\n",
    "# Initialize GridSearchCV\n",
    "grid_search = GridSearchCV(estimator=rf, param_grid=param_grid, cv=5, scoring='accuracy', verbose=2, n_jobs=-1)\n",
    "\n",
    "# Fit the model\n",
    "grid_search.fit(X_train, y_train)\n",
    "\n",
    "# Get the best parameters and best estimator\n",
    "best_params = grid_search.best_params_\n",
    "best_model = grid_search.best_estimator_\n",
    "\n",
    "# Predict on the test set\n",
    "y_pred = best_model.predict(X_test)\n",
    "\n",
    "# Evaluate the model\n",
    "accuracy = accuracy_score(y_test, y_pred)\n",
    "print(f\"Best Parameters: {best_params}\")\n",
    "print(f\"Test Set Accuracy: {accuracy:.2f}\")"
   ]
  },
  {
   "cell_type": "code",
   "execution_count": 15,
   "id": "49746146",
   "metadata": {},
   "outputs": [
    {
     "data": {
      "image/png": "[encoded data removed]",
      "text/plain": [
       "<Figure size 1000x600 with 1 Axes>"
      ]
     },
     "metadata": {},
     "output_type": "display_data"
    }
   ],
   "source": [
    "import matplotlib.pyplot as plt\n",
    "\n",
    "# List of different numbers of base estimators to test\n",
    "n_estimators_list = [1, 5, 10, 20, 50, 100]\n",
    "\n",
    "# Store mean squared errors for each number of estimators\n",
    "mse_values = []\n",
    "\n",
    "for n_estimators in n_estimators_list:\n",
    "    # Train a Bagging Regressor\n",
    "    regressor = BaggingRegressor(estimator=DecisionTreeRegressor(), n_estimators=n_estimators, random_state=42)\n",
    "    regressor.fit(X_train, y_train)\n",
    "    \n",
    "    # Predict and calculate mean squared error\n",
    "    y_pred = regressor.predict(X_test)\n",
    "    mse = mean_squared_error(y_test, y_pred)\n",
    "    mse_values.append(mse)\n",
    "\n",
    "# Plot the results\n",
    "plt.figure(figsize=(10, 6))\n",
    "plt.plot(n_estimators_list, mse_values, marker='o', linestyle='-', color='r')\n",
    "plt.title('Bagging Regressor Performance vs Number of Base Estimators')\n",
    "plt.xlabel('Number of Base Estimators')\n",
    "plt.ylabel('Mean Squared Error')\n",
    "plt.grid(True)\n",
    "plt.show()"
   ]
  },
  {
   "cell_type": "code",
   "execution_count": 16,
   "id": "4836b9d5",
   "metadata": {},
   "outputs": [
    {
     "name": "stdout",
     "output_type": "stream",
     "text": [
      "Misclassified samples indices: []\n",
      "Number of misclassified samples: 0\n"
     ]
    }
   ],
   "source": [
    "# Train a Random Forest Classifier\n",
    "rf_classifier = RandomForestClassifier(random_state=42, n_estimators=100)\n",
    "rf_classifier.fit(X_train, y_train)\n",
    "\n",
    "# Predict on the test set\n",
    "y_pred = rf_classifier.predict(X_test)\n",
    "\n",
    "# Analyze misclassified samples\n",
    "misclassified_indices = [i for i, (true, pred) in enumerate(zip(y_test, y_pred)) if true != pred]\n",
    "print(f\"Misclassified samples indices: {misclassified_indices}\")\n",
    "print(f\"Number of misclassified samples: {len(misclassified_indices)}\")\n",
    "\n",
    "# Display true and predicted labels for misclassified samples\n",
    "for idx in misclassified_indices:\n",
    "    print(f\"Index: {idx}, True Label: {y_test[idx]}, Predicted Label: {y_pred[idx]}\")"
   ]
  },
  {
   "cell_type": "code",
   "execution_count": 17,
   "id": "87bc15cd",
   "metadata": {},
   "outputs": [
    {
     "name": "stdout",
     "output_type": "stream",
     "text": [
      "Decision Tree Classifier Accuracy: 1.00\n",
      "Bagging Classifier Accuracy: 1.00\n"
     ]
    }
   ],
   "source": [
    "from sklearn.tree import DecisionTreeClassifier\n",
    "from sklearn.ensemble import BaggingClassifier\n",
    "from sklearn.metrics import accuracy_score\n",
    "\n",
    "# Train a single Decision Tree Classifier\n",
    "dt_classifier = DecisionTreeClassifier(random_state=42)\n",
    "dt_classifier.fit(X_train, y_train)\n",
    "y_pred_dt = dt_classifier.predict(X_test)\n",
    "accuracy_dt = accuracy_score(y_test, y_pred_dt)\n",
    "print(f\"Decision Tree Classifier Accuracy: {accuracy_dt:.2f}\")\n",
    "\n",
    "# Train a Bagging Classifier with Decision Tree as base estimator\n",
    "bagging_classifier = BaggingClassifier(estimator=DecisionTreeClassifier(), n_estimators=50, random_state=42)\n",
    "bagging_classifier.fit(X_train, y_train)\n",
    "y_pred_bagging = bagging_classifier.predict(X_test)\n",
    "accuracy_bagging = accuracy_score(y_test, y_pred_bagging)\n",
    "print(f\"Bagging Classifier Accuracy: {accuracy_bagging:.2f}\")"
   ]
  },
  {
   "cell_type": "code",
   "execution_count": 18,
   "id": "ff9fb18c",
   "metadata": {},
   "outputs": [
    {
     "data": {
      "image/png": "[encoded data removed]",
      "text/plain": [
       "<Figure size 640x480 with 2 Axes>"
      ]
     },
     "metadata": {},
     "output_type": "display_data"
    }
   ],
   "source": [
    "from sklearn.metrics import ConfusionMatrixDisplay\n",
    "\n",
    "import matplotlib.pyplot as plt\n",
    "\n",
    "# Train a Random Forest Classifier\n",
    "rf_classifier = RandomForestClassifier(random_state=42, n_estimators=100)\n",
    "rf_classifier.fit(X_train, y_train)\n",
    "\n",
    "# Predict on the test set\n",
    "y_pred = rf_classifier.predict(X_test)\n",
    "\n",
    "# Visualize the confusion matrix\n",
    "ConfusionMatrixDisplay.from_predictions(y_test, y_pred, display_labels=iris.target_names, cmap='viridis')\n",
    "plt.title(\"Confusion Matrix for Random Forest Classifier\")\n",
    "plt.show()"
   ]
  },
  {
   "cell_type": "code",
   "execution_count": 19,
   "id": "9fdc9ffa",
   "metadata": {},
   "outputs": [
    {
     "name": "stdout",
     "output_type": "stream",
     "text": [
      "Stacking Classifier Accuracy: 1.00\n"
     ]
    }
   ],
   "source": [
    "from sklearn.ensemble import StackingClassifier\n",
    "from sklearn.linear_model import LogisticRegression\n",
    "from sklearn.svm import SVC\n",
    "from sklearn.tree import DecisionTreeClassifier\n",
    "from sklearn.metrics import accuracy_score\n",
    "\n",
    "# Define base estimators\n",
    "base_estimators = [\n",
    "    ('decision_tree', DecisionTreeClassifier(random_state=42)),\n",
    "    ('svm', SVC(probability=True, random_state=42)),\n",
    "    ('logistic', LogisticRegression(max_iter=1000, random_state=42))\n",
    "]\n",
    "\n",
    "# Define the Stacking Classifier\n",
    "stacking_classifier = StackingClassifier(estimators=base_estimators, final_estimator=LogisticRegression(max_iter=1000, random_state=42))\n",
    "\n",
    "# Train the Stacking Classifier\n",
    "stacking_classifier.fit(X_train, y_train)\n",
    "\n",
    "# Predict and evaluate\n",
    "y_pred_stacking = stacking_classifier.predict(X_test)\n",
    "accuracy_stacking = accuracy_score(y_test, y_pred_stacking)\n",
    "print(f\"Stacking Classifier Accuracy: {accuracy_stacking:.2f}\")"
   ]
  },
  {
   "cell_type": "code",
   "execution_count": 20,
   "id": "da59597f",
   "metadata": {},
   "outputs": [
    {
     "name": "stdout",
     "output_type": "stream",
     "text": [
      "Top 5 most important features:\n",
      "Feature 4: Importance 0.4340\n",
      "Feature 3: Importance 0.4173\n",
      "Feature 1: Importance 0.1041\n",
      "Feature 2: Importance 0.0446\n"
     ]
    }
   ],
   "source": [
    "# Train a Random Forest Classifier\n",
    "rf_classifier = RandomForestClassifier(random_state=42, n_estimators=100)\n",
    "rf_classifier.fit(X_train, y_train)\n",
    "\n",
    "# Get feature importances\n",
    "feature_importances = rf_classifier.feature_importances_\n",
    "\n",
    "# Sort features by importance\n",
    "sorted_indices = feature_importances.argsort()[::-1]\n",
    "\n",
    "# Print the top 5 most important features\n",
    "print(\"Top 5 most important features:\")\n",
    "for idx in sorted_indices[:5]:\n",
    "    print(f\"Feature {idx + 1}: Importance {feature_importances[idx]:.4f}\")"
   ]
  },
  {
   "cell_type": "code",
   "execution_count": 21,
   "id": "79a0f385",
   "metadata": {},
   "outputs": [
    {
     "name": "stdout",
     "output_type": "stream",
     "text": [
      "Precision: 1.00\n",
      "Recall: 1.00\n",
      "F1-score: 1.00\n"
     ]
    }
   ],
   "source": [
    "from sklearn.metrics import precision_score, recall_score, f1_score\n",
    "\n",
    "# Train a Bagging Classifier\n",
    "bagging_classifier = BaggingClassifier(estimator=DecisionTreeClassifier(), n_estimators=50, random_state=42)\n",
    "bagging_classifier.fit(X_train, y_train)\n",
    "\n",
    "# Predict on the test set\n",
    "y_pred_bagging = bagging_classifier.predict(X_test)\n",
    "\n",
    "# Evaluate performance\n",
    "precision = precision_score(y_test, y_pred_bagging, average='weighted')\n",
    "recall = recall_score(y_test, y_pred_bagging, average='weighted')\n",
    "f1 = f1_score(y_test, y_pred_bagging, average='weighted')\n",
    "\n",
    "print(f\"Precision: {precision:.2f}\")\n",
    "print(f\"Recall: {recall:.2f}\")\n",
    "print(f\"F1-score: {f1:.2f}\")"
   ]
  },
  {
   "cell_type": "code",
   "execution_count": 22,
   "id": "3ab4ff5f",
   "metadata": {},
   "outputs": [
    {
     "name": "stdout",
     "output_type": "stream",
     "text": [
      "Max Depth: None, Accuracy: 1.00\n",
      "Max Depth: 5, Accuracy: 1.00\n",
      "Max Depth: 10, Accuracy: 1.00\n",
      "Max Depth: 15, Accuracy: 1.00\n",
      "Max Depth: 20, Accuracy: 1.00\n",
      "Max Depth: 25, Accuracy: 1.00\n"
     ]
    }
   ],
   "source": [
    "# List of different max_depth values to test\n",
    "max_depth_list = [None, 5, 10, 15, 20, 25]\n",
    "\n",
    "# Store accuracies for each max_depth\n",
    "accuracies_max_depth = []\n",
    "\n",
    "for max_depth in max_depth_list:\n",
    "    # Train a Random Forest Classifier with the current max_depth\n",
    "    rf_classifier = RandomForestClassifier(max_depth=max_depth, random_state=42, n_estimators=100)\n",
    "    rf_classifier.fit(X_train, y_train)\n",
    "    \n",
    "    # Predict and calculate accuracy\n",
    "    y_pred = rf_classifier.predict(X_test)\n",
    "    accuracy = accuracy_score(y_test, y_pred)\n",
    "    accuracies_max_depth.append(accuracy)\n",
    "\n",
    "# Print the results\n",
    "for depth, acc in zip(max_depth_list, accuracies_max_depth):\n",
    "    print(f\"Max Depth: {depth}, Accuracy: {acc:.2f}\")"
   ]
  },
  {
   "cell_type": "code",
   "execution_count": 23,
   "id": "3fa6c4cd",
   "metadata": {},
   "outputs": [
    {
     "name": "stdout",
     "output_type": "stream",
     "text": [
      "Bagging Regressor with DecisionTreeRegressor MSE: 0.0022\n",
      "Bagging Regressor with KNeighborsRegressor MSE: 0.0108\n"
     ]
    }
   ],
   "source": [
    "from sklearn.neighbors import KNeighborsRegressor\n",
    "from sklearn.metrics import mean_squared_error\n",
    "\n",
    "# Train Bagging Regressor with DecisionTreeRegressor as base estimator\n",
    "dt_bagging_regressor = BaggingRegressor(estimator=DecisionTreeRegressor(), n_estimators=10, random_state=42)\n",
    "dt_bagging_regressor.fit(X_train, y_train)\n",
    "y_pred_dt_bagging = dt_bagging_regressor.predict(X_test)\n",
    "mse_dt_bagging = mean_squared_error(y_test, y_pred_dt_bagging)\n",
    "print(f\"Bagging Regressor with DecisionTreeRegressor MSE: {mse_dt_bagging:.4f}\")\n",
    "\n",
    "# Train Bagging Regressor with KNeighborsRegressor as base estimator\n",
    "knn_bagging_regressor = BaggingRegressor(estimator=KNeighborsRegressor(), n_estimators=10, random_state=42)\n",
    "knn_bagging_regressor.fit(X_train, y_train)\n",
    "y_pred_knn_bagging = knn_bagging_regressor.predict(X_test)\n",
    "mse_knn_bagging = mean_squared_error(y_test, y_pred_knn_bagging)\n",
    "print(f\"Bagging Regressor with KNeighborsRegressor MSE: {mse_knn_bagging:.4f}\")"
   ]
  },
  {
   "cell_type": "code",
   "execution_count": 24,
   "id": "c2ada883",
   "metadata": {},
   "outputs": [
    {
     "name": "stdout",
     "output_type": "stream",
     "text": [
      "Random Forest Classifier ROC-AUC Score: 1.00\n"
     ]
    }
   ],
   "source": [
    "from sklearn.ensemble import RandomForestClassifier\n",
    "from sklearn.metrics import roc_auc_score\n",
    "from sklearn.preprocessing import label_binarize\n",
    "\n",
    "# Train a Random Forest Classifier\n",
    "rf_classifier_auc = RandomForestClassifier(random_state=42, n_estimators=100)\n",
    "rf_classifier_auc.fit(X_train, y_train)\n",
    "\n",
    "# Predict probabilities for AUC calculation\n",
    "y_pred_proba_rf = rf_classifier_auc.predict_proba(X_test)\n",
    "\n",
    "# Binarize the labels for multi-class AUC\n",
    "y_test_binarized_rf = label_binarize(y_test, classes=[0, 1, 2])\n",
    "\n",
    "# Compute AUC score\n",
    "auc_score_rf = roc_auc_score(y_test_binarized_rf, y_pred_proba_rf, multi_class='ovr')\n",
    "print(f\"Random Forest Classifier ROC-AUC Score: {auc_score_rf:.2f}\")"
   ]
  },
  {
   "cell_type": "code",
   "execution_count": 25,
   "id": "6be260f7",
   "metadata": {},
   "outputs": [
    {
     "name": "stdout",
     "output_type": "stream",
     "text": [
      "Cross-validation scores: [0.95238095 0.9047619  0.9047619  1.         0.95238095]\n",
      "Mean cross-validation accuracy: 0.94\n"
     ]
    }
   ],
   "source": [
    "from sklearn.model_selection import cross_val_score\n",
    "\n",
    "# Initialize the Bagging Classifier\n",
    "bagging_classifier_cv = BaggingClassifier(estimator=DecisionTreeClassifier(), n_estimators=50, random_state=42)\n",
    "\n",
    "# Perform cross-validation\n",
    "cv_scores = cross_val_score(bagging_classifier_cv, X_train, y_train, cv=5, scoring='accuracy')\n",
    "\n",
    "# Print the cross-validation scores and their mean\n",
    "print(f\"Cross-validation scores: {cv_scores}\")\n",
    "print(f\"Mean cross-validation accuracy: {cv_scores.mean():.2f}\")"
   ]
  },
  {
   "cell_type": "code",
   "execution_count": 26,
   "id": "892f619b",
   "metadata": {},
   "outputs": [
    {
     "data": {
      "image/png": "[encoded data removed]",
      "text/plain": [
       "<Figure size 640x480 with 1 Axes>"
      ]
     },
     "metadata": {},
     "output_type": "display_data"
    },
    {
     "data": {
      "image/png": "[encoded data removed]",
      "text/plain": [
       "<Figure size 640x480 with 1 Axes>"
      ]
     },
     "metadata": {},
     "output_type": "display_data"
    },
    {
     "data": {
      "image/png": "[encoded data removed]",
      "text/plain": [
       "<Figure size 640x480 with 1 Axes>"
      ]
     },
     "metadata": {},
     "output_type": "display_data"
    }
   ],
   "source": [
    "from sklearn.ensemble import RandomForestClassifier\n",
    "from sklearn.metrics import precision_recall_curve, PrecisionRecallDisplay\n",
    "\n",
    "import matplotlib.pyplot as plt\n",
    "\n",
    "# Train a Random Forest Classifier\n",
    "rf_classifier_pr = RandomForestClassifier(random_state=42, n_estimators=100)\n",
    "rf_classifier_pr.fit(X_train, y_train)\n",
    "\n",
    "# Predict probabilities for Precision-Recall curve\n",
    "y_scores = rf_classifier_pr.predict_proba(X_test)\n",
    "\n",
    "# Compute Precision-Recall curve for each class\n",
    "for i, class_name in enumerate(iris.target_names):\n",
    "    precision, recall, _ = precision_recall_curve(y_test_binarized[:, i], y_scores[:, i])\n",
    "    disp = PrecisionRecallDisplay(precision=precision, recall=recall)\n",
    "    disp.plot(name=f\"Class {class_name}\")\n",
    "\n",
    "plt.title(\"Precision-Recall Curve for Random Forest Classifier\")\n",
    "plt.show()"
   ]
  },
  {
   "cell_type": "code",
   "execution_count": 27,
   "id": "b916c92f",
   "metadata": {},
   "outputs": [
    {
     "name": "stdout",
     "output_type": "stream",
     "text": [
      "Stacking Classifier Accuracy: 1.00\n",
      "Random Forest Classifier Accuracy: 1.00\n",
      "Logistic Regression Accuracy: 1.00\n"
     ]
    }
   ],
   "source": [
    "from sklearn.ensemble import StackingClassifier\n",
    "from sklearn.linear_model import LogisticRegression\n",
    "from sklearn.ensemble import RandomForestClassifier\n",
    "from sklearn.metrics import accuracy_score\n",
    "\n",
    "# Define base estimators\n",
    "base_estimators = [\n",
    "    ('random_forest', RandomForestClassifier(n_estimators=50, random_state=42)),\n",
    "    ('logistic', LogisticRegression(max_iter=1000, random_state=42))\n",
    "]\n",
    "\n",
    "# Define the Stacking Classifier\n",
    "stacking_classifier = StackingClassifier(estimators=base_estimators, final_estimator=LogisticRegression(max_iter=1000, random_state=42))\n",
    "\n",
    "# Train the Stacking Classifier\n",
    "stacking_classifier.fit(X_train, y_train)\n",
    "\n",
    "# Predict and evaluate\n",
    "y_pred_stacking = stacking_classifier.predict(X_test)\n",
    "accuracy_stacking = accuracy_score(y_test, y_pred_stacking)\n",
    "print(f\"Stacking Classifier Accuracy: {accuracy_stacking:.2f}\")\n",
    "\n",
    "# Train and evaluate Random Forest separately\n",
    "rf_classifier = RandomForestClassifier(n_estimators=50, random_state=42)\n",
    "rf_classifier.fit(X_train, y_train)\n",
    "y_pred_rf = rf_classifier.predict(X_test)\n",
    "accuracy_rf = accuracy_score(y_test, y_pred_rf)\n",
    "print(f\"Random Forest Classifier Accuracy: {accuracy_rf:.2f}\")\n",
    "\n",
    "# Train and evaluate Logistic Regression separately\n",
    "logistic_classifier = LogisticRegression(max_iter=1000, random_state=42)\n",
    "logistic_classifier.fit(X_train, y_train)\n",
    "y_pred_logistic = logistic_classifier.predict(X_test)\n",
    "accuracy_logistic = accuracy_score(y_test, y_pred_logistic)\n",
    "print(f\"Logistic Regression Accuracy: {accuracy_logistic:.2f}\")"
   ]
  },
  {
   "cell_type": "code",
   "execution_count": 28,
   "id": "68002bc2",
   "metadata": {},
   "outputs": [
    {
     "name": "stdout",
     "output_type": "stream",
     "text": [
      "Bootstrap: True, Mean Squared Error: 0.0022\n",
      "Bootstrap: False, Mean Squared Error: 0.0000\n"
     ]
    }
   ],
   "source": [
    "# List of different bootstrap settings to test\n",
    "bootstrap_settings = [True, False]\n",
    "\n",
    "# Store mean squared errors for each bootstrap setting\n",
    "mse_bootstrap = []\n",
    "\n",
    "for bootstrap in bootstrap_settings:\n",
    "    # Train a Bagging Regressor with the current bootstrap setting\n",
    "    regressor = BaggingRegressor(estimator=DecisionTreeRegressor(), n_estimators=10, random_state=42, bootstrap=bootstrap)\n",
    "    regressor.fit(X_train, y_train)\n",
    "    \n",
    "    # Predict and calculate mean squared error\n",
    "    y_pred = regressor.predict(X_test)\n",
    "    mse = mean_squared_error(y_test, y_pred)\n",
    "    mse_bootstrap.append(mse)\n",
    "\n",
    "# Print the results\n",
    "for bootstrap, mse in zip(bootstrap_settings, mse_bootstrap):\n",
    "    print(f\"Bootstrap: {bootstrap}, Mean Squared Error: {mse:.4f}\")"
   ]
  }
 ],
 "metadata": {
  "kernelspec": {
   "display_name": "Python 3",
   "language": "python",
   "name": "python3"
  },
  "language_info": {
   "codemirror_mode": {
    "name": "ipython",
    "version": 3
   },
   "file_extension": ".py",
   "mimetype": "text/x-python",
   "name": "python",
   "nbconvert_exporter": "python",
   "pygments_lexer": "ipython3",
   "version": "3.12.5"
  }
 },
 "nbformat": 4,
 "nbformat_minor": 5
}
