{
 "cells": [
  {
   "cell_type": "markdown",
   "id": "86b87a4c-f952-4608-aec8-974591d5e3d9",
   "metadata": {},
   "source": [
    "# 1. What are the five key concepts of Object-Oriented Programming (OOP)?"
   ]
  },
  {
   "cell_type": "code",
   "execution_count": null,
   "id": "bec8e0ee-e04c-4a29-9dad-4ce88192d95f",
   "metadata": {},
   "outputs": [],
   "source": [
    "Five keys of Oops programming language are:\n",
    "1.Object and Method\n",
    "2 Encapsulation\n",
    "3.Inheritance\n",
    "4 Polymorphism\n",
    "5 Abstraction\n"
   ]
  },
  {
   "cell_type": "markdown",
   "id": "9f6c3c16-e7d0-4866-adec-c59c8c3e3fb6",
   "metadata": {},
   "source": [
    "# 2. Write a Python class for a `Car` with attributes for `make`, `model`, and `year`. Include a method to display the car's information."
   ]
  },
  {
   "cell_type": "code",
   "execution_count": null,
   "id": "41147ca7-3df8-4985-9079-d77525de1f77",
   "metadata": {},
   "outputs": [],
   "source": [
    "class Car:\n",
    "    def __init__(self,make, model, year):\n",
    "        self.make=make\n",
    "        self.model=model\n",
    "        self.year=year\n",
    "\n",
    "    def display_info(self):\n",
    "        print(f\"model : {self.model},make: {self.make},year : {self.year}\")"
   ]
  },
  {
   "cell_type": "markdown",
   "id": "b7dab7b7-03c4-4e90-847a-76bfa5f0d2d8",
   "metadata": {},
   "source": [
    "# 3 Explain the difference between instance methods and class methods. Provide an example of each"
   ]
  },
  {
   "cell_type": "code",
   "execution_count": 15,
   "id": "7934f985-78a7-4723-9909-084eed3ae0a3",
   "metadata": {},
   "outputs": [
    {
     "name": "stdout",
     "output_type": "stream",
     "text": [
      "Name of student is rupali,Age of student is 23\n"
     ]
    }
   ],
   "source": [
    "#Instance method>> Instance method can be accessed  through the instance or object of class . Using this we can access or modify Instance variable\n",
    "\n",
    "#Class Method>> Class Method can be accessed through class reference it doesn't need any object to get accessed .It is used to access and modify class \n",
    "#variable,we use decorator @classmethod to make class method.\n",
    "\n",
    "\n",
    "#example Instance method\n",
    "class Student:\n",
    "    def __init__(self,name,age):\n",
    "        self.name=name\n",
    "        self.age=age\n",
    "\n",
    "    def access_student_details(self):\n",
    "        self.name=\"rupali\" ##Here name which is instance variable is modifying by instance method\n",
    "        print(f\"Name of student is {self.name},Age of student is {self.age}\")# Here we can access instance variable using instance method\n",
    "#call tnstance method\n",
    "student=Student(\"ravika\",23)\n",
    "student.access_student_details() #we can get modified name by this\n",
    "\n",
    "\n",
    "\n",
    "\n",
    "\n",
    "#example of classmethod\n",
    "class Animal:\n",
    "    species=\"canine\"\n",
    "    def __init__(self,name,color):\n",
    "        self.name=name\n",
    "        self.color=color\n",
    "    @classmethod\n",
    "    def access_variable(self):\n",
    "        return Animal.species\n",
    "animal=Animal(\"bravo\",\"white\")\n",
    "Animal.access_variable() ###accessing classmethod\n",
    "\n",
    "\n",
    "\n",
    "        \n",
    "        "
   ]
  },
  {
   "cell_type": "markdown",
   "id": "21bff19b-8c5a-4381-8f78-8dbeb1ce534f",
   "metadata": {},
   "source": [
    "# 4. How does Python implement method overloading? Give an example."
   ]
  },
  {
   "cell_type": "code",
   "execution_count": null,
   "id": "bb704af5-ad55-4bfd-8d5a-48e55df9c9cc",
   "metadata": {},
   "outputs": [],
   "source": [
    "Python doesn't directly support the concept of method overloading .\n",
    "However we achieve it by the dafault parameter None where we can able to use the class according to our need."
   ]
  },
  {
   "cell_type": "code",
   "execution_count": 30,
   "id": "f5807f61-2608-4e09-b9b8-8d590034a4c2",
   "metadata": {},
   "outputs": [],
   "source": [
    "class Sum_numbers:\n",
    "    def _sum(self,a=None,b=None,c=None):\n",
    "        if a!=None and b!=None and c!=None:\n",
    "            return a+b+c\n",
    "        elif a!=None and b!=None:\n",
    "            return a+b\n",
    "        elif a!=None:\n",
    "            return a\n",
    "        else:\n",
    "            return 0"
   ]
  },
  {
   "cell_type": "code",
   "execution_count": 32,
   "id": "ac2c9a65-92fc-4813-88e9-a99dbc85df9f",
   "metadata": {},
   "outputs": [
    {
     "data": {
      "text/plain": [
       "6"
      ]
     },
     "execution_count": 32,
     "metadata": {},
     "output_type": "execute_result"
    }
   ],
   "source": [
    "obj=Sum_numbers()\n",
    "obj._sum(1,2,3)\n"
   ]
  },
  {
   "cell_type": "code",
   "execution_count": 34,
   "id": "12819be9-bf11-487d-bcce-417282a21ebf",
   "metadata": {},
   "outputs": [
    {
     "data": {
      "text/plain": [
       "5"
      ]
     },
     "execution_count": 34,
     "metadata": {},
     "output_type": "execute_result"
    }
   ],
   "source": [
    "obj._sum(a=2,b=3)"
   ]
  },
  {
   "cell_type": "markdown",
   "id": "4796662e-247e-4dab-bc2c-7e3f1eb5a852",
   "metadata": {},
   "source": [
    "# 5. What are the three types of access modifiers in Python? How are they denoted?"
   ]
  },
  {
   "cell_type": "code",
   "execution_count": 74,
   "id": "a862bead-c852-4e59-9053-252c36192f45",
   "metadata": {},
   "outputs": [],
   "source": [
    "#The three types of access modifier in python are public access modifier,private access modifier,and protected access modifier\n",
    "\n",
    "#Example\n",
    "\n",
    "class Bank:\n",
    "    def bank_prop(self,account_no,balance,deposit):\n",
    "        self.account_no = account_no #public\n",
    "        self._balance = balance #protected\n",
    "        self.__deposit=self._balance + deposit #private protected\n",
    "    def access(self):\n",
    "        return f\"account no:{self.account_no},balance:{self._balance},deposite:{self.__deposit}\"\n",
    "          \n",
    "        \n",
    "    "
   ]
  },
  {
   "cell_type": "code",
   "execution_count": 76,
   "id": "2668f9e1-5a47-44be-bfe1-26669927128e",
   "metadata": {},
   "outputs": [
    {
     "data": {
      "text/plain": [
       "'account no:2233434334,balance:2200000,deposite:2202000'"
      ]
     },
     "execution_count": 76,
     "metadata": {},
     "output_type": "execute_result"
    }
   ],
   "source": [
    "bank=Bank()\n",
    "bank.bank_prop(2233434334,2200000,2000)\n",
    "bank.access()\n"
   ]
  },
  {
   "cell_type": "markdown",
   "id": "f9f4c470-dc9d-4705-8aaa-7d142ccc0141",
   "metadata": {},
   "source": [
    "# 6. Describe the five types of inheritance in Python. Provide a simple example of multiple inheritance."
   ]
  },
  {
   "cell_type": "code",
   "execution_count": null,
   "id": "4ffb560b-42cd-48f6-8d12-7a8c5def75a4",
   "metadata": {},
   "outputs": [],
   "source": [
    "Five different types of inheritance  in python are :\n",
    "1.single inheritance\n",
    "2 multilevel inheritence\n",
    "3 Hierarrical inheritance\n",
    "4.Multiple inheritance\n",
    "5 Hybrid inheritance\n"
   ]
  },
  {
   "cell_type": "code",
   "execution_count": null,
   "id": "8a158699-d794-4602-9ac3-f6b2119629ce",
   "metadata": {},
   "outputs": [],
   "source": [
    "# Multiple inheritance\n",
    "\n",
    "class father:\n",
    "    def parent_info(self):\n",
    "        print(\"i am father\")\n",
    "\n",
    "class molther:\n",
    "    def parent_info(self):\n",
    "        print(\"i am mother\")\n",
    "\n",
    "class child(father,mother):\n",
    "    print(\"i am child\")\n",
    "        "
   ]
  },
  {
   "cell_type": "markdown",
   "id": "2ad2a191-c6c7-4fb3-b3cc-6074a36106a4",
   "metadata": {},
   "source": [
    "# 7 What is the Method Resolution Order (MRO) in Python? How can you retrieve it programmatically?"
   ]
  },
  {
   "cell_type": "code",
   "execution_count": null,
   "id": "385076f9-7863-412b-9092-d4b7aaa7de28",
   "metadata": {},
   "outputs": [],
   "source": [
    "MRO used to solve diamond problem, when a class interit from two and more than two class and same method is defined inside parent class then MRO applied\n",
    "                       or\n",
    "MRO represent how property or (method and attributes) are searched in inheritance \n",
    "\n",
    "we can use either the __mro__ attribute or the mro() method to get the method resolution order.\n"
   ]
  },
  {
   "cell_type": "markdown",
   "id": "56643c97-acc9-4c11-bd14-49540be4fcdc",
   "metadata": {},
   "source": [
    "# 8. Create an abstract base class `Shape` with an abstract method `area()`. Then create two subclasses Circle` and `Rectangle` that implement the `area()` method."
   ]
  },
  {
   "cell_type": "code",
   "execution_count": 44,
   "id": "2eb5f426-2d9a-4e03-8112-d84a8f46d71e",
   "metadata": {},
   "outputs": [],
   "source": [
    "import abc\n",
    "class shape:\n",
    "    @abc.abstractmethod\n",
    "    def find_area():\n",
    "        pass\n",
    "    "
   ]
  },
  {
   "cell_type": "code",
   "execution_count": 46,
   "id": "e1de6e13-5bf7-4e6d-86a6-99c1565a67b6",
   "metadata": {},
   "outputs": [],
   "source": [
    "import math\n",
    "class circle(shape):\n",
    "    def find_area(radius):\n",
    "        return 2*math.pi*radius"
   ]
  },
  {
   "cell_type": "code",
   "execution_count": null,
   "id": "d94ad34b-939e-4a23-9aeb-7876d8902880",
   "metadata": {},
   "outputs": [],
   "source": [
    "class rectangle(shape):\n",
    "    def find_area(length,breadth):\n",
    "        return length*breadth"
   ]
  },
  {
   "cell_type": "markdown",
   "id": "35116df4-b417-403d-b6ce-45e3fb7b6d63",
   "metadata": {},
   "source": [
    "# 9. Demonstrate polymorphism by creating a function that can work with different shape objects to calculate and print their areas."
   ]
  },
  {
   "cell_type": "code",
   "execution_count": 124,
   "id": "895a4fdb-1b5a-4b77-843b-ccec1a0987a2",
   "metadata": {},
   "outputs": [],
   "source": [
    "\n",
    "class Circle:\n",
    "    def __init__(self,radius):\n",
    "       self.radius = radius\n",
    "\n",
    "    def find_area(self):\n",
    "        return 2*3.14*self.radius\n",
    "\n",
    "class Rectangle:\n",
    "    def __init__(self,length,breadth):\n",
    "        self.length=length\n",
    "        self.breadth=breadth\n",
    "\n",
    "    def find_area(self):\n",
    "        return self.length*self.breadth\n",
    "        \n",
    "        \n",
    "        "
   ]
  },
  {
   "cell_type": "code",
   "execution_count": 126,
   "id": "b07c68ee-ec82-4cc5-938f-502138d704c0",
   "metadata": {},
   "outputs": [
    {
     "name": "stdout",
     "output_type": "stream",
     "text": [
      "Area ofCircle:12.56\n",
      "Area ofRectangle:8\n"
     ]
    }
   ],
   "source": [
    "circle=Circle(2)\n",
    "rectangle=Rectangle(2,4)\n",
    "shapes=[circle,rectangle]\n",
    "for shape in shapes:\n",
    "    print(f\"Area of{shape.__class__.__name__}:{shape.find_area()}\")\n",
    "    "
   ]
  },
  {
   "cell_type": "markdown",
   "id": "b35736df-048e-4d0a-9cd8-0d7e3571825e",
   "metadata": {},
   "source": [
    "# 10. Implement encapsulation in a `BankAccount` class with private attributes for `balance` and `account_number`. Include methods for deposit, withdrawal, and balance inquiry"
   ]
  },
  {
   "cell_type": "code",
   "execution_count": 78,
   "id": "38573eed-6f96-46a5-93c4-840077695a68",
   "metadata": {},
   "outputs": [],
   "source": [
    "class Bank_account:\n",
    "    def __init__(self,balance,account_number):\n",
    "        self.__balance=balance\n",
    "        self.__account_number=account_number\n",
    "\n",
    "    def deposit(self,amount):\n",
    "        self.__balance+=amount\n",
    "\n",
    "    def withdrawl(self,amount):\n",
    "        if self.__balance>amount:\n",
    "            self.__balance-=amount\n",
    "\n",
    "    def get_balance(self):\n",
    "        return self.__balance\n",
    "            "
   ]
  },
  {
   "cell_type": "code",
   "execution_count": 80,
   "id": "21aa9773-9346-484d-9227-2265b940fb27",
   "metadata": {},
   "outputs": [],
   "source": [
    "bank_account=Bank_account(450000,234567273)"
   ]
  },
  {
   "cell_type": "markdown",
   "id": "37ef8076-3a80-441b-9c5c-58306b06fbf0",
   "metadata": {},
   "source": [
    "# 11. Write a class that overrides the `__str__` and `__add__` magic methods. What will these methods allow you to do"
   ]
  },
  {
   "cell_type": "code",
   "execution_count": 90,
   "id": "ddc6fa11-a5fd-4c90-b580-14d13f6bbf57",
   "metadata": {},
   "outputs": [],
   "source": [
    "#__str__ and  __add__ method allow us to override string and add method inside a class\n",
    "\n",
    "\n",
    "class student:\n",
    "    def __init__(self,name,age):\n",
    "        self.name=name\n",
    "        self.age=age\n",
    "    def __str__(self):        #__str__method is special method use the print() function on an instance of class\n",
    "        return f\"name is {self.name},age is {self.age}\"\n",
    "        "
   ]
  },
  {
   "cell_type": "code",
   "execution_count": 120,
   "id": "653988dd-aedf-480f-be7b-55a70d299e1f",
   "metadata": {},
   "outputs": [
    {
     "name": "stdout",
     "output_type": "stream",
     "text": [
      "name is rupali,age is 23\n"
     ]
    }
   ],
   "source": [
    "st=student(\"rupali\",23)\n",
    "print(st)"
   ]
  },
  {
   "cell_type": "code",
   "execution_count": 164,
   "id": "156ffc97-d1d3-430d-9df9-1093be5fd9a0",
   "metadata": {},
   "outputs": [
    {
     "ename": "TypeError",
     "evalue": "unsupported operand type(s) for +: 'Bank' and 'Bank'",
     "output_type": "error",
     "traceback": [
      "\u001b[1;31m---------------------------------------------------------------------------\u001b[0m",
      "\u001b[1;31mTypeError\u001b[0m                                 Traceback (most recent call last)",
      "Cell \u001b[1;32mIn[164], line 6\u001b[0m\n\u001b[0;32m      4\u001b[0m bank_1\u001b[38;5;241m=\u001b[39mBank(\u001b[38;5;241m20000\u001b[39m)\n\u001b[0;32m      5\u001b[0m bank_2\u001b[38;5;241m=\u001b[39mBank(\u001b[38;5;241m30000\u001b[39m)\n\u001b[1;32m----> 6\u001b[0m bank_1\u001b[38;5;241m+\u001b[39mbank_2\n",
      "\u001b[1;31mTypeError\u001b[0m: unsupported operand type(s) for +: 'Bank' and 'Bank'"
     ]
    }
   ],
   "source": [
    "class Bank:\n",
    "    def __init__(self,balance):\n",
    "        self.balance=balance\n",
    "bank_1=Bank(20000)\n",
    "bank_2=Bank(30000)\n",
    "bank_1+bank_2   ###in this class add method is not defined that's why it is throwing error"
   ]
  },
  {
   "cell_type": "code",
   "execution_count": 1,
   "id": "d21670c2-4f00-4762-ae9d-4d56540e78ad",
   "metadata": {},
   "outputs": [
    {
     "data": {
      "text/plain": [
       "50000"
      ]
     },
     "execution_count": 1,
     "metadata": {},
     "output_type": "execute_result"
    }
   ],
   "source": [
    "class Bank:\n",
    "    def __init__(self,balance):\n",
    "        self.balance=balance\n",
    "    def __add__(self,other):\n",
    "        total_balance=Bank(self.balance+other.balance)\n",
    "        return total_balance\n",
    "    \n",
    "bank_1=Bank(20000)\n",
    "bank_2=Bank(30000)\n",
    "account=bank_1+bank_2\n",
    "account.balance\n"
   ]
  },
  {
   "cell_type": "markdown",
   "id": "b7afe926-e950-4bf4-93c8-0ebf5b383c76",
   "metadata": {},
   "source": [
    "# 12. Create a decorator that measures and prints the execution time of a function."
   ]
  },
  {
   "cell_type": "code",
   "execution_count": 115,
   "id": "333ba105-9880-4b86-abe0-862ef7693025",
   "metadata": {},
   "outputs": [],
   "source": [
    "import time\n",
    "\n",
    "def my_decorator(func):\n",
    "    def wrapper(num1,num2):\n",
    "        start=time.perf_counter()\n",
    "        result=func(num1,num2)\n",
    "        end=time.perf_counter()\n",
    "        \n",
    "        print(f\"time of execution for this code :{end-start}\")\n",
    "        return result\n",
    "       \n",
    "    return wrapper\n",
    "\n",
    "        \n",
    "        "
   ]
  },
  {
   "cell_type": "code",
   "execution_count": 117,
   "id": "f07ec176-50c2-4280-9e72-319a2ea64e20",
   "metadata": {},
   "outputs": [],
   "source": [
    "@my_decorator\n",
    "def sum(num1,num2):\n",
    "    return num1+num2"
   ]
  },
  {
   "cell_type": "code",
   "execution_count": 119,
   "id": "2ea69f80-d4b7-4056-b6eb-6fe57e48d7df",
   "metadata": {},
   "outputs": [
    {
     "name": "stdout",
     "output_type": "stream",
     "text": [
      "time of execution for this code :3.6999990697950125e-06\n"
     ]
    },
    {
     "data": {
      "text/plain": [
       "7"
      ]
     },
     "execution_count": 119,
     "metadata": {},
     "output_type": "execute_result"
    }
   ],
   "source": [
    "sum(3,4)"
   ]
  },
  {
   "cell_type": "markdown",
   "id": "da383388-5fdc-48c4-b761-22ac9fcea940",
   "metadata": {},
   "source": [
    "# 13. Explain the concept of the Diamond Problem in multiple inheritance. How does Python resolve it"
   ]
  },
  {
   "cell_type": "code",
   "execution_count": null,
   "id": "da2a6bae-795b-4f90-ba9a-6fba36382e08",
   "metadata": {},
   "outputs": [],
   "source": [
    "When a class inherit from multiple parent class and same method defined inside classes then diamond problem occur .python resolve it by MRO method."
   ]
  },
  {
   "cell_type": "markdown",
   "id": "c7f3c95c-f545-4c9a-9f72-2d05c38e8468",
   "metadata": {},
   "source": [
    "# 14. Write a class method that keeps track of the number of instances created from a class."
   ]
  },
  {
   "cell_type": "code",
   "execution_count": 107,
   "id": "76470ed9-1c59-4a3f-8422-7c9462b56e2b",
   "metadata": {},
   "outputs": [],
   "source": [
    "class My_class:\n",
    "    instance_count=0\n",
    "    def __init__(self):\n",
    "        My_class.instance_count+=1\n",
    "        \n",
    "    @classmethod\n",
    "    def track_no_of_instances(cls):\n",
    "        return cls.instance_count\n",
    "        "
   ]
  },
  {
   "cell_type": "code",
   "execution_count": 112,
   "id": "61ca6cd6-943e-48d1-ad7a-800ccd7a7376",
   "metadata": {},
   "outputs": [
    {
     "data": {
      "text/plain": [
       "1"
      ]
     },
     "execution_count": 112,
     "metadata": {},
     "output_type": "execute_result"
    }
   ],
   "source": [
    "my_class=My_class()\n",
    "My_class.track_no_of_instances()"
   ]
  },
  {
   "cell_type": "code",
   "execution_count": 114,
   "id": "28ae11ab-ee55-42b7-8e35-66572aa6a0e1",
   "metadata": {},
   "outputs": [
    {
     "data": {
      "text/plain": [
       "2"
      ]
     },
     "execution_count": 114,
     "metadata": {},
     "output_type": "execute_result"
    }
   ],
   "source": [
    "my_class=My_class()\n",
    "My_class.track_no_of_instances()"
   ]
  },
  {
   "cell_type": "code",
   "execution_count": 116,
   "id": "b770029c-d134-40c1-8f1b-6927dee51794",
   "metadata": {},
   "outputs": [
    {
     "data": {
      "text/plain": [
       "3"
      ]
     },
     "execution_count": 116,
     "metadata": {},
     "output_type": "execute_result"
    }
   ],
   "source": [
    "my_class=My_class()\n",
    "My_class.track_no_of_instances()"
   ]
  },
  {
   "cell_type": "code",
   "execution_count": null,
   "id": "19e3fef3-ff2e-4476-b250-5710ccbf62d6",
   "metadata": {},
   "outputs": [],
   "source": []
  },
  {
   "cell_type": "markdown",
   "id": "9bffc295-8da9-44af-aa0c-b2922cd3b6e3",
   "metadata": {},
   "source": [
    "# 15. Implement a static method in a class that checks if a given year is a leap year."
   ]
  },
  {
   "cell_type": "code",
   "execution_count": 115,
   "id": "f29ac0f9-ca2a-4db4-8979-33fc9f8f348f",
   "metadata": {},
   "outputs": [],
   "source": [
    "class Year:\n",
    "    @staticmethod\n",
    "    def check_leap_year(year):\n",
    "        if (year%4==0 and year%100!=0) or year%400==0:\n",
    "            print(\"leap year\")\n",
    "\n",
    "        else:\n",
    "            return \"not leap year\"\n",
    "        "
   ]
  },
  {
   "cell_type": "code",
   "execution_count": 123,
   "id": "946b3e12-8b12-4dfa-a874-8a6525dfcf4b",
   "metadata": {},
   "outputs": [
    {
     "name": "stdout",
     "output_type": "stream",
     "text": [
      "leap year\n"
     ]
    }
   ],
   "source": [
    "year=2000\n",
    "Year.check_leap_year(year)"
   ]
  },
  {
   "cell_type": "code",
   "execution_count": null,
   "id": "c03f5d9c-4a46-40a9-94a8-f9823d84c5c8",
   "metadata": {},
   "outputs": [],
   "source": []
  },
  {
   "cell_type": "code",
   "execution_count": null,
   "id": "e72b83fd-b02f-404f-84e8-328204603fce",
   "metadata": {},
   "outputs": [],
   "source": []
  },
  {
   "cell_type": "code",
   "execution_count": null,
   "id": "c62af64e-627c-428a-b7ee-4be961693811",
   "metadata": {},
   "outputs": [],
   "source": []
  },
  {
   "cell_type": "code",
   "execution_count": null,
   "id": "7a9ad2b6-e8c4-49a3-b5dc-fc66ec85cecc",
   "metadata": {},
   "outputs": [],
   "source": []
  }
 ],
 "metadata": {
  "kernelspec": {
   "display_name": "Python 3 (ipykernel)",
   "language": "python",
   "name": "python3"
  },
  "language_info": {
   "codemirror_mode": {
    "name": "ipython",
    "version": 3
   },
   "file_extension": ".py",
   "mimetype": "text/x-python",
   "name": "python",
   "nbconvert_exporter": "python",
   "pygments_lexer": "ipython3",
   "version": "3.12.4"
  }
 },
 "nbformat": 4,
 "nbformat_minor": 5
}
